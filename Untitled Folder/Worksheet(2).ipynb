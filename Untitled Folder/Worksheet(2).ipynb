{
 "cells": [
  {
   "cell_type": "markdown",
   "metadata": {},
   "source": [
    "### Session 3: k-NN Classification (Question 4 & 7)"
   ]
  },
  {
   "cell_type": "markdown",
   "metadata": {},
   "source": [
    "This worksheet breaks down the steps necessary to complete the k-NN classification questions (**CS4** and **CS7**).\n",
    "\n",
    "You will need to make **modular** use of your solutions for CS1-3."
   ]
  },
  {
   "cell_type": "markdown",
   "metadata": {},
   "source": [
    "## Add the necessary import statements\n",
    "\n",
    "Libraries you need include: \n",
    "* numpy\n",
    "* sklearn.metrics.confusion_matrix function\n",
    "* sklearn.neighbours module\n",
    "* matplotlib"
   ]
  },
  {
   "cell_type": "code",
   "execution_count": null,
   "metadata": {},
   "outputs": [],
   "source": [
    "import numpy as np\n",
    "from sklearn import neighbors, datasets\n",
    "from sklearn.metrics import confusion_matrix\n",
    "from sklearn.model_selection import train_test_split \n",
    "import matplotlib.pyplot as plt"
   ]
  },
  {
   "cell_type": "markdown",
   "metadata": {},
   "source": [
    "## Load the breast cancer dataset\n",
    "\n",
    "Same as last time."
   ]
  },
  {
   "cell_type": "code",
   "execution_count": 10,
   "metadata": {},
   "outputs": [],
   "source": [
    "bunchobject = datasets.load_breast_cancer()"
   ]
  },
  {
   "cell_type": "code",
   "execution_count": 11,
   "metadata": {
    "pycharm": {
     "name": "#%%\n"
    }
   },
   "outputs": [],
   "source": [
    "import numpy as np\n",
    "from sklearn.metrics import confusion_matrix\n",
    "\n",
    "def get_metrics(actual_targets, predicted_targets, labels):\n",
    "    \n",
    "    c_matrix = confusion_matrix(actual_targets, predicted_targets, labels)\n",
    "    \n",
    "    counter = 0\n",
    "    total_records = sum([i for lst in c_matrix for i in lst])\n",
    "    accuracy = ( c_matrix[0][0] + c_matrix[1][1]) / total_records\n",
    "    sensitivity = ( c_matrix[1][1]) / (c_matrix[1][0] + c_matrix[1][1])\n",
    "    fpr = (c_matrix[0][1] ) / (c_matrix[0][0] + c_matrix[0][1])\n",
    "    print(counter)\n",
    "    # your code here\n",
    "    \n",
    "    output = {}\n",
    "    \n",
    "    output['confusion matrix'] = np.array(c_matrix)\n",
    "    output['total records'] = round(total_records,3)\n",
    "    output['sensitivity'] = round(sensitivity,3)\n",
    "    output['accuracy'] = round(accuracy,3)\n",
    "    output['false positive rate'] = round(fpr,3)\n",
    "    \n",
    "    return output"
   ]
  },
  {
   "cell_type": "code",
   "execution_count": 12,
   "metadata": {},
   "outputs": [
    {
     "name": "stdout",
     "output_type": "stream",
     "text": [
      "[{'median': 18.84, 'first quartile': 16.17, 'maximum': 39.28, 'third quartile': 21.8, 'minimum': 9.71}]\n"
     ]
    }
   ],
   "source": [
    "import numpy as np\n",
    "from sklearn.preprocessing import MinMaxScaler\n",
    "from sklearn import datasets\n",
    "\n",
    "def normalize_minmax(data):\n",
    "    if len(data.shape) != 2:\n",
    "        return None\n",
    "    \n",
    "    scaler = MinMaxScaler()\n",
    "    scaler.fit(data)\n",
    "    norm_array = scaler.transform(data)\n",
    "    return norm_array\n",
    "\n",
    "def five_number_summary(x):\n",
    "    lst = []\n",
    "    \n",
    "    if len(x.shape) != 2:\n",
    "        return None\n",
    "    for i in range(np.shape(x)[1]):\n",
    "        num = x[:,i]\n",
    "        output = {}\n",
    "        output['maximum'] = np.max(num)\n",
    "        output['minimum'] = np.min(num)\n",
    "        output['first quartile'] = np.percentile(num,25)\n",
    "        output['median'] = np.percentile(num,50)\n",
    "        output['third quartile'] = np.percentile(num,75)\n",
    "        lst.append(output)\n",
    "    return lst\n",
    "\n",
    "bunchobject = datasets.load_breast_cancer()\n",
    "first_column = bunchobject.data[:, [1] ]\n",
    "print( five_number_summary(first_column) )"
   ]
  },
  {
   "cell_type": "code",
   "execution_count": 13,
   "metadata": {},
   "outputs": [],
   "source": [
    "import numpy as np\n",
    "\n",
    "def normalize_minmax(data):\n",
    "    lst = []\n",
    "    if len(data.shape) != 2:\n",
    "        return None\n",
    "    for i in range(data.shape[1]):\n",
    "        num = data[:, i]\n",
    "        num = (num - np.min(num)) / (np.max(num) - np.min(num))\n",
    "        lst.append(num)\n",
    "    return np.array(lst).T"
   ]
  },
  {
   "cell_type": "code",
   "execution_count": 9,
   "metadata": {},
   "outputs": [],
   "source": [
    "## (Question 4) k-NN Classifier"
   ]
  },
  {
   "cell_type": "markdown",
   "metadata": {},
   "source": [
    "## (Question 4) k-NN Classifier"
   ]
  },
  {
   "cell_type": "markdown",
   "metadata": {},
   "source": [
    "Execute the following code, which will display a bar plot visualising the patient distribution across the two labels.\n",
    "\n",
    "**Reflection:** which of the labels, in the context of classification, should we take as the so-called \"positive case\"? Why?"
   ]
  },
  {
   "cell_type": "code",
   "execution_count": 17,
   "metadata": {},
   "outputs": [
    {
     "data": {
      "image/png": "[encoded data removed]",
      "text/plain": [
       "<Figure size 432x288 with 1 Axes>"
      ]
     },
     "metadata": {
      "needs_background": "light"
     },
     "output_type": "display_data"
    }
   ],
   "source": [
    "import matplotlib.pyplot as plt\n",
    "def display_bar_chart(positions, counts, names, title_name='default'):\n",
    "    plt.bar(positions, counts, align='center')\n",
    "    plt.xticks(positions, names)\n",
    "    plt.title(title_name)\n",
    "    plt.show()\n",
    "\n",
    "unique, counts = np.unique(bunchobject.target, return_counts = True)\n",
    "display_bar_chart(unique, counts, bunchobject.target_names)"
   ]
  },
  {
   "cell_type": "markdown",
   "metadata": {},
   "source": [
    "You are ready to define a k-NN classification function and apply it to the Wisconsin breast cancer dataset.\n",
    "\n",
    "The function 'knn_classifier' should take as input:\n",
    "\n",
    "* a bunchobject\n",
    "* a list of features (i.e. column indices) for the classifier to consider. This can be more than two!\n",
    "* a test set size and seed (same as last time)\n",
    "* a value of k\n",
    "\n",
    "The function should return a dictionary of metrics reporting the results of applying a k-NN classifier to the test data.\n",
    "\n",
    "**Hint:** you will need to make use of your code from CS1, CS2, and CS3."
   ]
  },
  {
   "cell_type": "code",
   "execution_count": 19,
   "metadata": {},
   "outputs": [
    {
     "name": "stdout",
     "output_type": "stream",
     "text": [
      "[[1.799e+01 1.038e+01 1.228e+02 ... 2.654e-01 4.601e-01 1.189e-01]\n",
      " [2.057e+01 1.777e+01 1.329e+02 ... 1.860e-01 2.750e-01 8.902e-02]\n",
      " [1.969e+01 2.125e+01 1.300e+02 ... 2.430e-01 3.613e-01 8.758e-02]\n",
      " ...\n",
      " [1.660e+01 2.808e+01 1.083e+02 ... 1.418e-01 2.218e-01 7.820e-02]\n",
      " [2.060e+01 2.933e+01 1.401e+02 ... 2.650e-01 4.087e-01 1.240e-01]\n",
      " [7.760e+00 2.454e+01 4.792e+01 ... 0.000e+00 2.871e-01 7.039e-02]]\n"
     ]
    }
   ],
   "source": [
    "# paste any functions you need from CS1, CS2, and CS3 here\n",
    "\n",
    "print(bunchobject['data'])"
   ]
  },
  {
   "cell_type": "code",
   "execution_count": null,
   "metadata": {},
   "outputs": [],
   "source": [
    "def knn_classifier(bunchobject, feature_list, size, seed, k):\n",
    "    \n",
    "    # extract the data column(s) and targets from the bunchobject\n",
    "    for i in range(np.shape(bunchobject)[1]):\n",
    "        column = bunchobject['data'][:,i]\n",
    "    # normalise your data\n",
    "        colum n\n",
    "    # split your data into a training and testing set\n",
    "    \n",
    "    # construct the k-NN classifier and fit the data\n",
    "    \n",
    "    # apply it to the test set and obtain some metrics\n",
    "    \n",
    "    return results"
   ]
  },
  {
   "cell_type": "markdown",
   "metadata": {},
   "source": [
    "The following code can be used to test your function:"
   ]
  },
  {
   "cell_type": "code",
   "execution_count": null,
   "metadata": {},
   "outputs": [],
   "source": [
    "features = range(20) # i.e. the first 20 features!\n",
    "results = knn_classifier(bunchobject, features, 0.40, 2752, 3)\n",
    "print(results)"
   ]
  },
  {
   "cell_type": "markdown",
   "metadata": {},
   "source": [
    "## (Question 7) Best k\n",
    "\n",
    "In this final function, instead of providing an arbitrary values of k, you must attempt to determine which value of k (from 1 to 19 inclusive) will give you the best accuracy. Full details of the required steps are in the PDF problem sheet.\n",
    "\n",
    "**Hint:** split the data into 60% training, 20% validation, and 20% testing. Use the validation set to determine the best k, and use the testing set to construct the metrics of that best k.\n",
    "\n",
    "How to split the data into three parts? You can always apply train_test_split() twice. :-)\n"
   ]
  },
  {
   "cell_type": "code",
   "execution_count": null,
   "metadata": {},
   "outputs": [],
   "source": [
    "def knn_classifier_full(bunchobject, feature_list, size, seed):\n",
    "    \n",
    "    # extract the column(s) of data from the bunchobject\n",
    "    \n",
    "    # normalise your data\n",
    "    \n",
    "    # split data into training, VALIDATION, and testing sets\n",
    "    \n",
    "    # iteratively construct 1-NN, 2-NN, ... 19-NN classifiers\n",
    "    #    and evaluate them on the validation set\n",
    "    \n",
    "    # determine which of the k-NN classifiers had the best accuracy\n",
    "    \n",
    "    # return the nested dictionary of different metrics\n",
    "    \n",
    "    return results"
   ]
  },
  {
   "cell_type": "markdown",
   "metadata": {},
   "source": [
    "The following code can be used to test your function:"
   ]
  },
  {
   "cell_type": "code",
   "execution_count": null,
   "metadata": {},
   "outputs": [],
   "source": [
    "features = range(20) # i.e. the first 20 features!\n",
    "results = knn_classifier_full(bunchobject, features, 0.40, 2752)\n",
    "print(results)"
   ]
  }
 ],
 "metadata": {
  "kernelspec": {
   "display_name": "Python 3",
   "language": "python",
   "name": "python3"
  },
  "language_info": {
   "codemirror_mode": {
    "name": "ipython",
    "version": 3
   },
   "file_extension": ".py",
   "mimetype": "text/x-python",
   "name": "python",
   "nbconvert_exporter": "python",
   "pygments_lexer": "ipython3",
   "version": "3.5.2"
  },
  "pycharm": {
   "stem_cell": {
    "cell_type": "raw",
    "metadata": {
     "collapsed": false
    },
    "source": []
   }
  }
 },
 "nbformat": 4,
 "nbformat_minor": 2
}
