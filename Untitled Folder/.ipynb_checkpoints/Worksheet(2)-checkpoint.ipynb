{
 "cells": [
  {
   "cell_type": "markdown",
   "metadata": {},
   "source": [
    "### Session 3: k-NN Classification (Question 4 & 7)"
   ]
  },
  {
   "cell_type": "markdown",
   "metadata": {},
   "source": [
    "This worksheet breaks down the steps necessary to complete the k-NN classification questions (**CS4** and **CS7**).\n",
    "\n",
    "You will need to make **modular** use of your solutions for CS1-3."
   ]
  },
  {
   "cell_type": "markdown",
   "metadata": {},
   "source": [
    "## Add the necessary import statements\n",
    "\n",
    "Libraries you need include: \n",
    "* numpy\n",
    "* sklearn.metrics.confusion_matrix function\n",
    "* sklearn.neighbours module\n",
    "* matplotlib"
   ]
  },
  {
   "cell_type": "code",
   "execution_count": null,
   "metadata": {},
   "outputs": [],
   "source": [
    "import numpy as np\n",
    "from sklearn import neighbors, datasets\n",
    "from sklearn.metrics import confusion_matrix\n",
    "from sklearn.model_selection import train_test_split \n",
    "import matplotlib.pyplot as plt"
   ]
  },
  {
   "cell_type": "markdown",
   "metadata": {},
   "source": [
    "## Load the breast cancer dataset\n",
    "\n",
    "Same as last time."
   ]
  },
  {
   "cell_type": "code",
   "execution_count": null,
   "metadata": {},
   "outputs": [],
   "source": [
    "bunchobject = datasets.load_breast_cancer()"
   ]
  },
  {
   "cell_type": "markdown",
   "metadata": {},
   "source": [
    "## (Question 4) k-NN Classifier"
   ]
  },
  {
   "cell_type": "markdown",
   "metadata": {},
   "source": [
    "Execute the following code, which will display a bar plot visualising the patient distribution across the two labels.\n",
    "\n",
    "**Reflection:** which of the labels, in the context of classification, should we take as the so-called \"positive case\"? Why?"
   ]
  },
  {
   "cell_type": "code",
   "execution_count": null,
   "metadata": {},
   "outputs": [],
   "source": [
    "def display_bar_chart(positions, counts, names, title_name='default'):\n",
    "    plt.bar(positions, counts, align='center')\n",
    "    plt.xticks(positions, names)\n",
    "    plt.title(title_name)\n",
    "    plt.show()\n",
    "\n",
    "unique, counts = np.unique(bunchobject.target, return_counts = True)\n",
    "display_bar_chart(unique, counts, bunchobject.target_names)"
   ]
  },
  {
   "cell_type": "markdown",
   "metadata": {},
   "source": [
    "You are ready to define a k-NN classification function and apply it to the Wisconsin breast cancer dataset.\n",
    "\n",
    "The function 'knn_classifier' should take as input:\n",
    "\n",
    "* a bunchobject\n",
    "* a list of features (i.e. column indices) for the classifier to consider. This can be more than two!\n",
    "* a test set size and seed (same as last time)\n",
    "* a value of k\n",
    "\n",
    "The function should return a dictionary of metrics reporting the results of applying a k-NN classifier to the test data.\n",
    "\n",
    "**Hint:** you will need to make use of your code from CS1, CS2, and CS3."
   ]
  },
  {
   "cell_type": "code",
   "execution_count": null,
   "metadata": {},
   "outputs": [],
   "source": [
    "# paste any functions you need from CS1, CS2, and CS3 here\n",
    "\n"
   ]
  },
  {
   "cell_type": "code",
   "execution_count": null,
   "metadata": {},
   "outputs": [],
   "source": [
    "def knn_classifier(bunchobject, feature_list, size, seed, k):\n",
    "    \n",
    "    # extract the data column(s) and targets from the bunchobject\n",
    "    \n",
    "    # normalise your data\n",
    "    \n",
    "    # split your data into a training and testing set\n",
    "    \n",
    "    # construct the k-NN classifier and fit the data\n",
    "    \n",
    "    # apply it to the test set and obtain some metrics\n",
    "    \n",
    "    return results"
   ]
  },
  {
   "cell_type": "markdown",
   "metadata": {},
   "source": [
    "The following code can be used to test your function:"
   ]
  },
  {
   "cell_type": "code",
   "execution_count": null,
   "metadata": {},
   "outputs": [],
   "source": [
    "features = range(20) # i.e. the first 20 features!\n",
    "results = knn_classifier(bunchobject, features, 0.40, 2752, 3)\n",
    "print(results)"
   ]
  },
  {
   "cell_type": "markdown",
   "metadata": {},
   "source": [
    "## (Question 7) Best k\n",
    "\n",
    "In this final function, instead of providing an arbitrary values of k, you must attempt to determine which value of k (from 1 to 19 inclusive) will give you the best accuracy. Full details of the required steps are in the PDF problem sheet.\n",
    "\n",
    "**Hint:** split the data into 60% training, 20% validation, and 20% testing. Use the validation set to determine the best k, and use the testing set to construct the metrics of that best k.\n",
    "\n",
    "How to split the data into three parts? You can always apply train_test_split() twice. :-)\n"
   ]
  },
  {
   "cell_type": "code",
   "execution_count": null,
   "metadata": {},
   "outputs": [],
   "source": [
    "def knn_classifier_full(bunchobject, feature_list, size, seed):\n",
    "    \n",
    "    # extract the column(s) of data from the bunchobject\n",
    "    \n",
    "    # normalise your data\n",
    "    \n",
    "    # split data into training, VALIDATION, and testing sets\n",
    "    \n",
    "    # iteratively construct 1-NN, 2-NN, ... 19-NN classifiers\n",
    "    #    and evaluate them on the validation set\n",
    "    \n",
    "    # determine which of the k-NN classifiers had the best accuracy\n",
    "    \n",
    "    # return the nested dictionary of different metrics\n",
    "    \n",
    "    return results"
   ]
  },
  {
   "cell_type": "markdown",
   "metadata": {},
   "source": [
    "The following code can be used to test your function:"
   ]
  },
  {
   "cell_type": "code",
   "execution_count": null,
   "metadata": {},
   "outputs": [],
   "source": [
    "features = range(20) # i.e. the first 20 features!\n",
    "results = knn_classifier_full(bunchobject, features, 0.40, 2752)\n",
    "print(results)"
   ]
  }
 ],
 "metadata": {
  "kernelspec": {
   "display_name": "Python 3",
   "language": "python",
   "name": "python3"
  },
  "language_info": {
   "codemirror_mode": {
    "name": "ipython",
    "version": 3
   },
   "file_extension": ".py",
   "mimetype": "text/x-python",
   "name": "python",
   "nbconvert_exporter": "python",
   "pygments_lexer": "ipython3",
   "version": "3.5.2"
  }
 },
 "nbformat": 4,
 "nbformat_minor": 2
}
