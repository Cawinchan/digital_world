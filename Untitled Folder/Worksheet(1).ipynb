{
 "cells": [
  {
   "cell_type": "markdown",
   "metadata": {},
   "source": [
    "# Session 2: Classification Preliminaries (Questions 1-3)"
   ]
  },
  {
   "cell_type": "markdown",
   "metadata": {},
   "source": [
    "This worksheet breaks down the steps necessary to complete the preliminary questions for k-NN classification (**Q1-Q3**).\n",
    "\n",
    "For the moment, you can **ignore Q4 and Q7**, which will be addressed on Thursday."
   ]
  },
  {
   "cell_type": "markdown",
   "metadata": {},
   "source": [
    "## Add the necessary import statements\n",
    "\n",
    "Libraries you need include: \n",
    "* numpy\n",
    "* sklearn.datasets module\n",
    "* sklearn.metrics.confusion_matrix function\n",
    "* matplotlib"
   ]
  },
  {
   "cell_type": "code",
   "execution_count": 1,
   "metadata": {
    "pycharm": {
     "is_executing": false
    }
   },
   "outputs": [
    {
     "ename": "ImportError",
     "evalue": "No module named 'sklearn'",
     "output_type": "error",
     "traceback": [
      "\u001b[0;31m---------------------------------------------------------------------------\u001b[0m",
      "\u001b[0;31mImportError\u001b[0m                               Traceback (most recent call last)",
      "\u001b[0;32m<ipython-input-1-c7fab58e8389>\u001b[0m in \u001b[0;36m<module>\u001b[0;34m\u001b[0m\n\u001b[1;32m      1\u001b[0m \u001b[0;32mimport\u001b[0m \u001b[0mnumpy\u001b[0m \u001b[0;32mas\u001b[0m \u001b[0mnp\u001b[0m\u001b[0;34m\u001b[0m\u001b[0m\n\u001b[0;32m----> 2\u001b[0;31m \u001b[0;32mfrom\u001b[0m \u001b[0msklearn\u001b[0m \u001b[0;32mimport\u001b[0m \u001b[0mdatasets\u001b[0m\u001b[0;34m\u001b[0m\u001b[0m\n\u001b[0m\u001b[1;32m      3\u001b[0m \u001b[0;32mfrom\u001b[0m \u001b[0msklearn\u001b[0m\u001b[0;34m.\u001b[0m\u001b[0mmetrics\u001b[0m \u001b[0;32mimport\u001b[0m \u001b[0mconfusion_matrix\u001b[0m\u001b[0;34m\u001b[0m\u001b[0m\n\u001b[1;32m      4\u001b[0m \u001b[0;32mimport\u001b[0m \u001b[0mmatplotlib\u001b[0m\u001b[0;34m.\u001b[0m\u001b[0mpyplot\u001b[0m \u001b[0;32mas\u001b[0m \u001b[0mplt\u001b[0m\u001b[0;34m\u001b[0m\u001b[0m\n\u001b[1;32m      5\u001b[0m \u001b[0;34m\u001b[0m\u001b[0m\n",
      "\u001b[0;31mImportError\u001b[0m: No module named 'sklearn'"
     ]
    }
   ],
   "source": [
    "import numpy as np\n",
    "from sklearn import datasets\n",
    "from sklearn.metrics import confusion_matrix\n",
    "import matplotlib.pyplot as plt"
   ]
  },
  {
   "cell_type": "markdown",
   "metadata": {},
   "source": [
    "## Load the breast cancer dataset\n",
    "\n",
    "Same as last time."
   ]
  },
  {
   "cell_type": "code",
   "execution_count": null,
   "metadata": {
    "pycharm": {
     "is_executing": false
    }
   },
   "outputs": [],
   "source": [
    "bunchobject = datasets.load_breast_cancer()"
   ]
  },
  {
   "cell_type": "markdown",
   "metadata": {},
   "source": [
    "## (Question 1) Classification Performance Metrics"
   ]
  },
  {
   "cell_type": "markdown",
   "metadata": {},
   "source": [
    "Define a function that takes as input:\n",
    "\n",
    "* a list of actual targets (labels) for some inputs\n",
    "* a list of predicted targets (labels) for the same inputs\n",
    "* a list of target names, with the negative case in the 0th position and the positive in the 1st\n",
    "\n",
    "The function should return a dictionary providing the confusion matrix, total records, accuracy, sensitivity, and false positive rate.\n",
    "\n",
    "**Hint:** use the imported confusion_matrix function to construct the matrix (see the documentation!). You can calculate the values of the required metrics by using the four positions of the confusion matrix."
   ]
  },
  {
   "cell_type": "code",
   "execution_count": null,
   "metadata": {
    "pycharm": {
     "is_executing": false
    }
   },
   "outputs": [],
   "source": [
    "def get_metrics(actual_targets, predicted_targets, target_names):\n",
    "    \n",
    "    # construct a confusion matrix using the confusion_matrix function\n",
    "    \n",
    "    # with your confusion matrix, calculate the total no. of records,\n",
    "    #    accuracy, sensitivity, and false positive rate\n",
    "    \n",
    "    # return the metrics and confusion matrix as a dictionary\n",
    "    \n",
    "    return results"
   ]
  },
  {
   "cell_type": "markdown",
   "metadata": {},
   "source": [
    "The following code can be used to test your function:"
   ]
  },
  {
   "cell_type": "code",
   "execution_count": null,
   "metadata": {
    "pycharm": {
     "is_executing": false
    }
   },
   "outputs": [],
   "source": [
    "actual = ['cat', 'cat', 'cat', 'cat', 'bird', 'bird', 'bird', 'bird']\n",
    "predicted = ['cat', 'cat', 'bird', 'bird', 'cat', 'bird', 'bird', 'bird']\n",
    "labels = ['bird', 'cat'] # cat is the positive case\n",
    "print( get_metrics(actual, predicted, labels) )"
   ]
  },
  {
   "cell_type": "markdown",
   "metadata": {},
   "source": [
    "## (Question 2) Five Number Summary\n",
    "\n",
    "Implement a function that takes as input some data as a 2D array, and returns as output a five number summary of each column. That is, a list of dictionaries each containing a column's minimum, maximum, median, first quartile, and third quartile value. If the input is a 1D array, the function should return None.\n",
    "\n",
    "**Hint:** make use of NumPy's built-in functions, such as max, min, percentile, ...\n"
   ]
  },
  {
   "cell_type": "code",
   "execution_count": null,
   "metadata": {
    "pycharm": {
     "is_executing": false
    }
   },
   "outputs": [],
   "source": [
    "def five_number_summary(data):\n",
    "\n",
    "    # check the dimensions of the data array\n",
    "    \n",
    "    # iterate over the columns, creating a 5-num summary dictionary for each column\n",
    "    \n",
    "    # return a list of such dictionaries\n",
    "    \n",
    "    return output"
   ]
  },
  {
   "cell_type": "markdown",
   "metadata": {},
   "source": [
    "The following code can be used to test your function:"
   ]
  },
  {
   "cell_type": "code",
   "execution_count": null,
   "metadata": {
    "pycharm": {
     "is_executing": false
    }
   },
   "outputs": [],
   "source": [
    "column_1 = bunchobject.data[:, [1]]\n",
    "print( five_number_summary(column_1) )"
   ]
  },
  {
   "cell_type": "markdown",
   "metadata": {},
   "source": [
    "Optionally, compare the output of the above test code against a box plot of the same data:"
   ]
  },
  {
   "cell_type": "code",
   "execution_count": null,
   "metadata": {
    "pycharm": {
     "is_executing": false
    }
   },
   "outputs": [],
   "source": [
    "column_1 = bunchobject.data[:, [1]]\n",
    "\n",
    "# add boxplot code here\n",
    "\n",
    "# add plt.show() here"
   ]
  },
  {
   "cell_type": "markdown",
   "metadata": {},
   "source": [
    "## (Question 3) Normalise the data between 0 and 1\n",
    "\n",
    "Some classification models require data to be normalised between 0 and 1 prior to training.\n",
    "\n",
    "Implement a function that takes as input a 2D NumPy array and returns an array of equal shape in which the values have been normalised. If the input is a 1D array, the function should return None.\n",
    "\n",
    "The following formula will normalise a given value $x$ with respect to the maximum and minimum values in the column:\n",
    "\n",
    "$x^* = \\frac{x - x_{min}}{x_{max}-x_{min}}$\n",
    "\n",
    "**Hint:** you can assign to an array slice to update all its elements at once."
   ]
  },
  {
   "cell_type": "code",
   "execution_count": null,
   "metadata": {
    "pycharm": {
     "is_executing": false
    }
   },
   "outputs": [],
   "source": [
    "def normalize_minmax(data):\n",
    "    \n",
    "    # check the dimensions of the data array\n",
    "    \n",
    "    # identify the max and min values of each column, then normalise their values\n",
    "    \n",
    "    return data"
   ]
  },
  {
   "cell_type": "markdown",
   "metadata": {},
   "source": [
    "The following code can be used to test your function:"
   ]
  },
  {
   "cell_type": "code",
   "execution_count": null,
   "metadata": {
    "pycharm": {
     "is_executing": false
    }
   },
   "outputs": [],
   "source": [
    "col_indices = [1, 7]\n",
    "some_columns = bunchobject.data[:, col_indices]\n",
    "norm_columns = normalize_minmax(some_columns)\n",
    "print('normalized', five_number_summary(norm_columns))"
   ]
  }
 ],
 "metadata": {
  "kernelspec": {
   "display_name": "Python 3",
   "language": "python",
   "name": "python3"
  },
  "language_info": {
   "codemirror_mode": {
    "name": "ipython",
    "version": 3
   },
   "file_extension": ".py",
   "mimetype": "text/x-python",
   "name": "python",
   "nbconvert_exporter": "python",
   "pygments_lexer": "ipython3",
   "version": "3.5.2"
  }
 },
 "nbformat": 4,
 "nbformat_minor": 2
}
